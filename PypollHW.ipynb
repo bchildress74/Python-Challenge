{
 "cells": [
  {
   "cell_type": "code",
   "execution_count": 1,
   "metadata": {},
   "outputs": [
    {
     "name": "stdout",
     "output_type": "stream",
     "text": [
      "Total Votes: 3521001\n",
      "Khan: 63.000% (2218231)\n",
      "Correy: 20.000% (704200)\n",
      "Li: 14.000% (492940)\n",
      "O'Tooley: 3.000% (105630)\n",
      "Khan\n"
     ]
    }
   ],
   "source": [
    "import os\n",
    "import csv\n",
    "\n",
    "pypoll = os.path.join('PyPoll','Resources','election_data.csv')\n",
    "\n",
    "totalVotes = 0  \n",
    "candidateVotes = {}\n",
    "winner = \"\" \n",
    "greatestVotes = 0\n",
    "\n",
    "with open(pypoll, 'r', newline='') as csvfile: \n",
    "    reader = csv.reader(csvfile, delimiter = ',') \n",
    "    #skip over the header\n",
    "    next(reader) \n",
    "    #for loop and counting total votes\n",
    "    for row in reader: \n",
    "        totalVotes += 1\n",
    "      #this says if the value if row[2] isnt already in cadidateVotes then add a value to the dict and if it is already in the dict it will add one      \n",
    "        if row[2] not in candidateVotes: \n",
    "            candidateVotes[row[2]] = 0.0 \n",
    "        candidateVotes[row[2]] += 1\n",
    "            \n",
    "                     \n",
    "print(f'Total Votes: {totalVotes}')  \n",
    "#for loop through the dict to print the candidate list\n",
    "for name, votes in candidateVotes.items():    \n",
    "    percent = (votes/totalVotes)*100\n",
    "    print(f\"{name}: {percent:.3f}% ({int(votes)})\")\n",
    "    if votes > greatestVotes: \n",
    "        greatestVotes = votes\n",
    "        winner = name\n",
    "print(winner)"
   ]
  },
  {
   "cell_type": "code",
   "execution_count": null,
   "metadata": {},
   "outputs": [],
   "source": []
  }
 ],
 "metadata": {
  "kernelspec": {
   "display_name": "Python 3",
   "language": "python",
   "name": "python3"
  },
  "language_info": {
   "codemirror_mode": {
    "name": "ipython",
    "version": 3
   },
   "file_extension": ".py",
   "mimetype": "text/x-python",
   "name": "python",
   "nbconvert_exporter": "python",
   "pygments_lexer": "ipython3",
   "version": "3.7.4"
  }
 },
 "nbformat": 4,
 "nbformat_minor": 4
}
