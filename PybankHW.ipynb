{
 "cells": [
  {
   "cell_type": "code",
   "execution_count": 4,
   "metadata": {},
   "outputs": [
    {
     "name": "stdout",
     "output_type": "stream",
     "text": [
      "Financial Analysis\n",
      "----------------------------------\n",
      "Total Months: 86\n",
      "Net Profit/Loss: $38382578\n",
      "Average Change: $-2315.12\n",
      "Greatest Increase: Feb-2012 ($1926159)\n",
      "Greatest Decrease: Sep-2013 ($-2196167)\n"
     ]
    }
   ],
   "source": [
    "import os \n",
    "import csv \n",
    " \n",
    "pybank = os.path.join(\"pybank\", \"Resources\",\"budget_data.csv\") \n",
    "\n",
    "totalMonths = set()\n",
    "totalProfit = 0\n",
    "sumChanges = 0.0 \n",
    "lastProfit = 0\n",
    "maxChange = ['',0]\n",
    "minChange = ['',0]\n",
    "\n",
    "with open(pybank, 'r', newline='') as csvfile: \n",
    "    reader = csv.reader(csvfile, delimiter=',')  \n",
    "    \n",
    "    #skips the header\n",
    "    next(reader) \n",
    "    #itterates through the rows of the csv file\n",
    "    for row in reader: \n",
    "        #adds months to the set totalMonths \n",
    "        totalMonths.add(row[0])\n",
    "        #pulling profit from column 1 and change to int\n",
    "        thisProfit = int(row[1])\n",
    "        #adding up this profit to total \n",
    "        totalProfit += thisProfit\n",
    "        #b/c lastProfit is at the end of the for loop, everything within this if statement wont occer until then\n",
    "        if lastProfit != 0.0:\n",
    "            #b/c lastProfit itterates at the end of the for loop it will be subtracting the previous month profit/loss\n",
    "            thisChange = thisProfit-lastProfit\n",
    "            #add the sum of the changes\n",
    "            sumChanges += thisChange \n",
    "            #checking thorugh the for loop to find the greatest inc/dec\n",
    "            if thisChange > maxChange[1]:\n",
    "                maxChange[0] = row[0]\n",
    "                maxChange[1] = thisChange\n",
    "            if thisChange < minChange[1]:\n",
    "                minChange[0] = row[0]\n",
    "                minChange[1] = thisChange\n",
    "        \n",
    "        #needs to be last \n",
    "        lastProfit = thisProfit \n",
    "        \n",
    "print('Financial Analysis')\n",
    "print('----------------------------------')\n",
    "print(f'Total Months: {len(totalMonths)}') \n",
    "print(f'Net Profit/Loss: ${totalProfit}')\n",
    "print(f'Average Change: ${round(sumChanges/(len(totalMonths)-1), 2)}')        \n",
    "print(f'Greatest Increase: {maxChange[0]} (${maxChange[1]})')    \n",
    "print(f'Greatest Decrease: {minChange[0]} (${minChange[1]})')  \n",
    "\n",
    "\n",
    "\n",
    "        \n",
    "    \n",
    "  \n",
    "\n"
   ]
  },
  {
   "cell_type": "code",
   "execution_count": null,
   "metadata": {},
   "outputs": [],
   "source": []
  }
 ],
 "metadata": {
  "kernelspec": {
   "display_name": "Python 3",
   "language": "python",
   "name": "python3"
  },
  "language_info": {
   "codemirror_mode": {
    "name": "ipython",
    "version": 3
   },
   "file_extension": ".py",
   "mimetype": "text/x-python",
   "name": "python",
   "nbconvert_exporter": "python",
   "pygments_lexer": "ipython3",
   "version": "3.7.4"
  }
 },
 "nbformat": 4,
 "nbformat_minor": 4
}
